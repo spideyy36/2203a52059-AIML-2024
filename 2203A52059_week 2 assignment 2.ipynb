{
  "nbformat": 4,
  "nbformat_minor": 0,
  "metadata": {
    "colab": {
      "provenance": []
    },
    "kernelspec": {
      "name": "python3",
      "display_name": "Python 3"
    },
    "language_info": {
      "name": "python"
    }
  },
  "cells": [
    {
      "cell_type": "code",
      "execution_count": 3,
      "metadata": {
        "colab": {
          "base_uri": "https://localhost:8080/"
        },
        "id": "5s5WE1WjPxVg",
        "outputId": "11285761-fd94-4f56-be45-c092842cb9a2"
      },
      "outputs": [
        {
          "output_type": "stream",
          "name": "stdout",
          "text": [
            "Following is the Breadth-First Search\n",
            "0 1 3 2 4 5 "
          ]
        }
      ],
      "source": [
        "graph = {\n",
        "  '0' : ['1','3'],\n",
        "  '1' : ['2'],\n",
        "  '2' : ['4','5'],\n",
        "  '3' : [],\n",
        "  '4' : [],\n",
        "  '5' : []\n",
        "}\n",
        "\n",
        "visited = []\n",
        "queue = []\n",
        "\n",
        "def bfs(visited, graph, node):\n",
        "  visited.append(node)\n",
        "  queue.append(node)\n",
        "\n",
        "  while queue:\n",
        "    m = queue.pop(0)\n",
        "    print (m, end = \" \")\n",
        "\n",
        "    for neighbour in graph[m]:\n",
        "      if neighbour not in visited:\n",
        "        visited.append(neighbour)\n",
        "        queue.append(neighbour)\n",
        "\n",
        "# Driver Code\n",
        "print(\"Breadth-First Search :\")\n",
        "bfs(visited, graph, '0')"
      ]
    },
    {
      "cell_type": "code",
      "source": [
        "def dfs(graph, start):\n",
        "    visited = set()\n",
        "    stack = [start]\n",
        "\n",
        "    while stack:\n",
        "        vertex = stack.pop()\n",
        "\n",
        "        if vertex not in visited:\n",
        "            print(vertex, end=' ')\n",
        "            visited.add(vertex)\n",
        "\n",
        "            # Push unvisited neighbors onto the stack\n",
        "            stack.extend(neighbor for neighbor in graph[vertex] if neighbor not in visited)\n",
        "graph = {\n",
        "    'A': ['B', 'S'],\n",
        "    'B': [],\n",
        "    'C': ['D', 'E', 'F', 'S'],\n",
        "    'D': ['C', 'E', 'F'],\n",
        "    'E': ['C', 'H'],\n",
        "    'F': ['C', 'G', 'S'],\n",
        "    'G': ['F', 'H', 'S'],\n",
        "    'H': ['E', 'G'],\n",
        "    'S': ['A', 'C', 'G']\n",
        "    }\n",
        "start_vertex = 'A'\n",
        "\n",
        "print(\"Depth First Search traversal starting from vertex\", start_vertex, \":\")\n",
        "dfs(graph, start_vertex)"
      ],
      "metadata": {
        "colab": {
          "base_uri": "https://localhost:8080/"
        },
        "id": "E3Cmx6r-cSwH",
        "outputId": "0a36a4da-fd34-4153-9059-dd55b30a7806"
      },
      "execution_count": 5,
      "outputs": [
        {
          "output_type": "stream",
          "name": "stdout",
          "text": [
            "Depth First Search traversal starting from vertex A :\n",
            "A S G H E C F D B "
          ]
        }
      ]
    },
    {
      "cell_type": "code",
      "source": [],
      "metadata": {
        "id": "2Sd0dx_HcTqW"
      },
      "execution_count": null,
      "outputs": []
    }
  ]
}