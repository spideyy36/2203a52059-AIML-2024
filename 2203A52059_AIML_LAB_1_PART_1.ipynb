{
  "nbformat": 4,
  "nbformat_minor": 0,
  "metadata": {
    "colab": {
      "provenance": []
    },
    "kernelspec": {
      "name": "python3",
      "display_name": "Python 3"
    },
    "language_info": {
      "name": "python"
    }
  },
  "cells": [
    {
      "cell_type": "markdown",
      "source": [
        "Implement Basic Data Structures using Numpy, Pandas\n",
        "1. Lists\n",
        "2. Arrays\n",
        "3. Identify their type using type()"
      ],
      "metadata": {
        "id": "jXKhF4yPSh-x"
      }
    },
    {
      "cell_type": "code",
      "execution_count": 10,
      "metadata": {
        "colab": {
          "base_uri": "https://localhost:8080/"
        },
        "id": "GJHh7TJgE4FY",
        "outputId": "a76eecee-b2ca-4ece-ac0d-99bb0ca11b21"
      },
      "outputs": [
        {
          "output_type": "stream",
          "name": "stdout",
          "text": [
            "[1, 2, 3, 4, 5]\n",
            "[6, 7, 8, 9, 5]\n",
            "[1 2 3 4 5]\n",
            "[6 7 8 9 5]\n"
          ]
        },
        {
          "output_type": "execute_result",
          "data": {
            "text/plain": [
              "numpy.ndarray"
            ]
          },
          "metadata": {},
          "execution_count": 10
        }
      ],
      "source": [
        "import numpy as np\n",
        "l1=[1,2,3,4,5]\n",
        "l2=[6,7,8,9,5]\n",
        "array1=np.array(l1)\n",
        "array2=np.array(l2)\n",
        "print(l1)\n",
        "print(l2)\n",
        "print(array1)\n",
        "print(array2)\n",
        "type(array1)\n",
        "type(array2)\n",
        "\n",
        "\n",
        "\n",
        "\n",
        "\n"
      ]
    },
    {
      "cell_type": "markdown",
      "source": [
        "mathematical operations on lists\n"
      ],
      "metadata": {
        "id": "dpEQLaJ-MVCO"
      }
    },
    {
      "cell_type": "code",
      "source": [
        "multiply=np.multiply(l1,l2)\n",
        "divide=np.divide(l2,l1)\n",
        "power=np.power(l1,l2)\n",
        "print(multiply)\n",
        "print(divide)\n",
        "print(power)\n"
      ],
      "metadata": {
        "colab": {
          "base_uri": "https://localhost:8080/"
        },
        "id": "L49-0YYvI7ZE",
        "outputId": "c9e94774-8597-44ef-d89a-5bdf135e3b50"
      },
      "execution_count": 13,
      "outputs": [
        {
          "output_type": "stream",
          "name": "stdout",
          "text": [
            "[ 6 14 24 36 25]\n",
            "[6.         3.5        2.66666667 2.25       1.        ]\n",
            "[     1    128   6561 262144   3125]\n"
          ]
        }
      ]
    },
    {
      "cell_type": "markdown",
      "source": [
        "mathematical operations on arrays"
      ],
      "metadata": {
        "id": "47SplBkZMcNm"
      }
    },
    {
      "cell_type": "code",
      "source": [
        "multiply_array=np.multiply(array1,array2)\n",
        "divide_array=np.divide(array2,array1)\n",
        "power_array=np.power(array1,array2)\n",
        "print(multiply_array)\n",
        "print(divide_array)\n",
        "print(power_array)"
      ],
      "metadata": {
        "colab": {
          "base_uri": "https://localhost:8080/"
        },
        "id": "AcMgmkQ2MbZn",
        "outputId": "b8629f04-c17e-41e9-86d0-df790f27eeb5"
      },
      "execution_count": 14,
      "outputs": [
        {
          "output_type": "stream",
          "name": "stdout",
          "text": [
            "[ 6 14 24 36 25]\n",
            "[6.         3.5        2.66666667 2.25       1.        ]\n",
            "[     1    128   6561 262144   3125]\n"
          ]
        }
      ]
    },
    {
      "cell_type": "markdown",
      "source": [
        "Combine text with Numpy fuction to generate a textual output - \"Addition of Two:\n",
        "array1 +array 2"
      ],
      "metadata": {
        "id": "XYpNMJiIN9_p"
      }
    },
    {
      "cell_type": "code",
      "source": [
        "import numpy as np\n",
        "array1 = np.array([1, 2, 3])\n",
        "array2 = np.array([4, 5, 6])\n",
        "result_array = array1 + array2\n",
        "text_output = f\"Addition of Two:\\narray1 + array2\\n{array1} + {array2} = {result_array}\"\n",
        "print(text_output)\n",
        "\n",
        "\n",
        "\n"
      ],
      "metadata": {
        "colab": {
          "base_uri": "https://localhost:8080/"
        },
        "id": "gX6RGImZLIzI",
        "outputId": "08c7357b-6d4d-48c2-b4b5-2b888e2bdb0e"
      },
      "execution_count": 26,
      "outputs": [
        {
          "output_type": "stream",
          "name": "stdout",
          "text": [
            "Addition of Two:\n",
            "array1 + array2\n",
            "[1 2 3] + [4 5 6] = [5 7 9]\n"
          ]
        }
      ]
    },
    {
      "cell_type": "markdown",
      "source": [
        "Implement np.sin(), log(), log2(), np.exp()"
      ],
      "metadata": {
        "id": "3j6ExFTQPLRg"
      }
    },
    {
      "cell_type": "code",
      "source": [
        "sin_values = np.sin(array1)\n",
        "log_values = np.log(array2)\n",
        "log2_values = np.log2(array1)\n",
        "exp_values = np.exp(array2)\n",
        "\n",
        "\n",
        "print(\"sin(array1):\", sin_values)\n",
        "print(\"log(array2):\", log_values)\n",
        "print(\"log2(array1):\", log2_values)\n",
        "print(\"exp(array2):\", exp_values)"
      ],
      "metadata": {
        "colab": {
          "base_uri": "https://localhost:8080/"
        },
        "id": "VcTpC0AHPJ2G",
        "outputId": "b8c9e789-f9d3-482b-bac7-66180609339f"
      },
      "execution_count": 17,
      "outputs": [
        {
          "output_type": "stream",
          "name": "stdout",
          "text": [
            "sin(array1): [ 0.84147098  0.90929743  0.14112001 -0.7568025  -0.95892427]\n",
            "log(array2): [1.79175947 1.94591015 2.07944154 2.19722458 1.60943791]\n",
            "log2(array1): [0.         1.         1.5849625  2.         2.32192809]\n",
            "exp(array2): [ 403.42879349 1096.63315843 2980.95798704 8103.08392758  148.4131591 ]\n"
          ]
        }
      ]
    }
  ]
}